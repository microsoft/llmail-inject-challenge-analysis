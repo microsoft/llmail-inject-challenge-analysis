{
 "cells": [
  {
   "cell_type": "code",
   "execution_count": null,
   "id": "5e716fbb",
   "metadata": {},
   "outputs": [],
   "source": [
    "import os\n",
    "import pandas as pd\n",
    "import numpy as np\n",
    "from datasets import load_dataset\n",
    "import json\n",
    "import os \n",
    "from openai import AzureOpenAI\n",
    "from llm_judge_prompt import LLM_JUDGE_PROMPT_PHASE2\n",
    "from tqdm import tqdm "
   ]
  },
  {
   "cell_type": "code",
   "execution_count": 13,
   "id": "fcab816a",
   "metadata": {},
   "outputs": [],
   "source": [
    "### Load data (select which phase) and find unique successful jobs \n",
    "jobs_phase1 = load_dataset(\"microsoft/llmail-inject-challenge\")['Phase1']\n",
    "\n",
    "## this is all submissions where obj['exfil.sent'] is true\n",
    "prompt_injection_successful = {}\n",
    "\n",
    "for job_ in jobs_phase1:\n",
    "    if job_[\"output\"]:\n",
    "        obj = json.loads(job_[\"objectives\"])\n",
    "        if obj:\n",
    "            prompt = job_[\"output\"].split(\"Processed example output for prompt: \")[-1]\n",
    "            if obj[\"exfil.sent\"]:\n",
    "                if prompt in prompt_injection_successful:\n",
    "                    prompt_injection_successful[prompt][\"job_ids\"].append(job_[\"job_id\"])\n",
    "                else:\n",
    "                    prompt_injection_successful[prompt] = {\"job_ids\": [job_[\"job_id\"]], \"defenses\": {}}"
   ]
  },
  {
   "cell_type": "code",
   "execution_count": 14,
   "id": "b2230097",
   "metadata": {},
   "outputs": [
    {
     "data": {
      "text/plain": [
       "25323"
      ]
     },
     "execution_count": 14,
     "metadata": {},
     "output_type": "execute_result"
    }
   ],
   "source": [
    "len(prompt_injection_successful)"
   ]
  },
  {
   "cell_type": "code",
   "execution_count": null,
   "id": "894d2f74",
   "metadata": {},
   "outputs": [],
   "source": [
    "client = AzureOpenAI(\n",
    "    azure_endpoint=os.getenv(\"AZURE_OPENAI_ENDPOINT\"),\n",
    "    api_key=os.getenv(\"AZURE_OPENAI_API_KEY\"),\n",
    "    api_version=\"2023-05-15\",\n",
    ")\n",
    "\n",
    "judge_answers = {}\n",
    "## apply judge on all data \n",
    "for prompt in tqdm(list(prompt_injection_successful.keys())):\n",
    "    judge_prompt = LLM_JUDGE_PROMPT_PHASE2.format(prompt)\n",
    "    messages = [{\"role\": \"system\", \"content\": judge_prompt}]\n",
    "    try:\n",
    "        res = client.chat.completions.create(\n",
    "            model=\"gpt-4o\",\n",
    "            messages=messages,\n",
    "            temperature=0,\n",
    "            max_tokens=3000,\n",
    "            response_format={\"type\": \"json_object\"},\n",
    "        )\n",
    "        judge_answer = res.choices[0].message.content\n",
    "        parsed_output = json.loads(judge_answer)\n",
    "        answer = False if \"CLEAN\" in parsed_output[\"decision\"] else True\n",
    "        judge_answers[prompt] = {\"answer\": answer, \"analysis\": parsed_output[\"analysis\"]}\n",
    "        prompt_injection_successful[prompt][\"defenses\"][\"llm_judge\"] = {\n",
    "            \"answer\": answer,\n",
    "            \"analysis\": parsed_output[\"analysis\"],\n",
    "        }\n",
    "    except:\n",
    "        continue\n",
    "\n",
    "with open(\"defenses_results_llm_judge.json\", \"w\") as output_file:\n",
    "    json.dump(prompt_injection_successful, output_file, indent=4)"
   ]
  }
 ],
 "metadata": {
  "kernelspec": {
   "display_name": "satml_comp",
   "language": "python",
   "name": "python3"
  },
  "language_info": {
   "codemirror_mode": {
    "name": "ipython",
    "version": 3
   },
   "file_extension": ".py",
   "mimetype": "text/x-python",
   "name": "python",
   "nbconvert_exporter": "python",
   "pygments_lexer": "ipython3",
   "version": "3.12.2"
  }
 },
 "nbformat": 4,
 "nbformat_minor": 5
}
