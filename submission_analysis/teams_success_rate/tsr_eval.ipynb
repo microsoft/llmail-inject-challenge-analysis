{
 "cells": [
  {
   "cell_type": "code",
   "execution_count": 2,
   "id": "b479c5e7",
   "metadata": {},
   "outputs": [],
   "source": [
    "import json  \n",
    "import matplotlib.pyplot as plt"
   ]
  },
  {
   "cell_type": "code",
   "execution_count": 1,
   "id": "12e9a0c3",
   "metadata": {},
   "outputs": [
    {
     "name": "stderr",
     "output_type": "stream",
     "text": [
      "/disk1/miniconda3/envs/satml_comp/lib/python3.12/site-packages/tqdm/auto.py:21: TqdmWarning: IProgress not found. Please update jupyter and ipywidgets. See https://ipywidgets.readthedocs.io/en/stable/user_install.html\n",
      "  from .autonotebook import tqdm as notebook_tqdm\n"
     ]
    }
   ],
   "source": [
    "from datasets import load_dataset\n",
    "submissions = load_dataset(\"microsoft/llmail-inject-challenge\")['Phase1']"
   ]
  },
  {
   "cell_type": "code",
   "execution_count": 24,
   "id": "80709c2f",
   "metadata": {},
   "outputs": [],
   "source": [
    "######## Prepare Data #########\n",
    "######## Get Jobs and Teams #########\n",
    "######## For each team, track how many levels they solved #########\n",
    "\n",
    "jobs = [submissions._getitem(i) for i in range(len(submissions))]\n",
    "teams_to_solves = dict()\n",
    "for job in jobs:\n",
    "    if 'team_id' in job:\n",
    "        if not job['team_id'] in teams_to_solves: teams_to_solves[job['team_id']] = set()\n",
    "        \n",
    "    if job['output']:\n",
    "        obj = json.loads(job['objectives']) \n",
    "        if obj:\n",
    "            if all(obj.values()):\n",
    "                teams_to_solves[job['team_id']].add(job['scenario'])"
   ]
  },
  {
   "cell_type": "markdown",
   "id": "a0864207",
   "metadata": {},
   "source": [
    "### Finding subset of teams who submitted to all scenarions\n",
    "### and solved at least (minimum_solve) levels -- Change \"minimum_solve\" next as required"
   ]
  },
  {
   "cell_type": "code",
   "execution_count": 16,
   "id": "b4b9ce44",
   "metadata": {},
   "outputs": [],
   "source": [
    "minimum_solve = 0"
   ]
  },
  {
   "cell_type": "code",
   "execution_count": 26,
   "id": "fc30e298",
   "metadata": {},
   "outputs": [
    {
     "name": "stdout",
     "output_type": "stream",
     "text": [
      "teams who submitted to level1: 216\n",
      "teams who submitted to level2: 106\n",
      "teams who submitted to level3: 84\n",
      "teams who submitted to level4: 76\n",
      "teams who submitted to all levels: 62\n",
      "qualified teams who submitted to all levels and solved at least 0 levels: 60\n"
     ]
    }
   ],
   "source": [
    "teams_per_scenario = {'level1': set(), 'level2': set(), 'level3': set(), 'level4': set()}\n",
    "teams_attempted_all = set()\n",
    "\n",
    "for job_ in jobs:\n",
    "    if job_['output']:\n",
    "        scenario = job_['scenario']\n",
    "        team = job_['team_id']\n",
    "        if 'level1' in scenario: teams_per_scenario['level1'].add(team)\n",
    "        if 'level2' in scenario: teams_per_scenario['level2'].add(team)\n",
    "        if 'level3' in scenario: teams_per_scenario['level3'].add(team)\n",
    "        if 'level4' in scenario: teams_per_scenario['level4'].add(team)      \n",
    "\n",
    "print(f'teams who submitted to level1: {len(teams_per_scenario['level1'])}')  \n",
    "print(f'teams who submitted to level2: {len(teams_per_scenario['level2'])}')  \n",
    "print(f'teams who submitted to level3: {len(teams_per_scenario['level3'])}')  \n",
    "print(f'teams who submitted to level4: {len(teams_per_scenario['level4'])}')  \n",
    "\n",
    "for team in teams_to_solves: \n",
    "    if team in teams_per_scenario['level1'] and team in teams_per_scenario['level2'] and team in teams_per_scenario['level3'] and team in teams_per_scenario['level4']: \n",
    "        teams_attempted_all.add(team)\n",
    "\n",
    "print(f'teams who submitted to all levels: {len(teams_attempted_all)}')\n",
    "\n",
    "qualified_teams = []\n",
    "for team in teams_to_solves:\n",
    "    if team in teams_attempted_all:\n",
    "        if len(teams_to_solves[team]) > minimum_solve: \n",
    "            qualified_teams.append(team)\n",
    "\n",
    "print(f'qualified teams who submitted to all levels and solved at least {minimum_solve} levels: {len(qualified_teams)}')"
   ]
  },
  {
   "cell_type": "markdown",
   "id": "4538f754",
   "metadata": {},
   "source": [
    "### For each sub-level, get the list of teams who solved it"
   ]
  },
  {
   "cell_type": "code",
   "execution_count": 29,
   "id": "bbed3c54",
   "metadata": {},
   "outputs": [],
   "source": [
    "success_per_team_per_scenario = {}\n",
    "teams_check = set()\n",
    "\n",
    "for job_ in jobs:\n",
    "    if job_['output']:\n",
    "        obj = json.loads(job_['objectives']) \n",
    "        scenario = job_['scenario']\n",
    "        team = job_['team_id']\n",
    "        if not team in qualified_teams: continue \n",
    "        teams_check.add(team)\n",
    "        if obj:\n",
    "            if scenario in success_per_team_per_scenario: \n",
    "                if not team in success_per_team_per_scenario[scenario]: \n",
    "                    success_per_team_per_scenario[scenario][team] =  all(obj.values())\n",
    "                elif success_per_team_per_scenario[scenario][team]: \n",
    "                    continue \n",
    "                else:\n",
    "                    success_per_team_per_scenario[scenario][team] = all(obj.values())\n",
    "            else: \n",
    "               success_per_team_per_scenario[scenario] = {team: all(obj.values())}\n",
    "\n",
    "\n",
    "###### This is teams success rate for each sub-level ######\n",
    "ratio_per_scenario  = {}\n",
    "for scenario in success_per_team_per_scenario:\n",
    "    ratio_per_scenario[scenario] = len([True for flag in success_per_team_per_scenario[scenario].values() if flag]) / len (success_per_team_per_scenario[scenario])"
   ]
  },
  {
   "cell_type": "markdown",
   "id": "c35f22ef",
   "metadata": {},
   "source": [
    "### success per team GPT-4 vs Phi-3"
   ]
  },
  {
   "cell_type": "code",
   "execution_count": 33,
   "id": "fbba60fc",
   "metadata": {},
   "outputs": [
    {
     "name": "stdout",
     "output_type": "stream",
     "text": [
      "GPT average team rate success: 0.44255465329978244\n",
      "Phi3 average team rate success: 0.6793490205735847\n"
     ]
    },
    {
     "data": {
      "image/png": "[encoded data removed]",
      "text/plain": [
       "<Figure size 600x400 with 1 Axes>"
      ]
     },
     "metadata": {},
     "output_type": "display_data"
    }
   ],
   "source": [
    "gpt_vs_phi = {'gpt': [], 'phi':[]}\n",
    "\n",
    "def check_if_gpt(scenario):\n",
    "    gpt_levels = ['b', 'd', 'f', 'h', 'j']\n",
    "    for gpt_letter in gpt_levels: \n",
    "        if gpt_letter in scenario: return True\n",
    "    return False \n",
    "\n",
    "def exclude_spotlight(scenario):\n",
    "    spotlight_levels = ['i','j', 'e', 'f']\n",
    "    for spotlight_letter in spotlight_levels: \n",
    "        if spotlight_letter in scenario: return True\n",
    "    return False \n",
    "\n",
    "for scenario in ratio_per_scenario: \n",
    "    if exclude_spotlight(scenario.split('level')[-1]): continue\n",
    "    if check_if_gpt(scenario):\n",
    "        gpt_vs_phi['gpt'].append(ratio_per_scenario[scenario])\n",
    "    else: \n",
    "        gpt_vs_phi['phi'].append(ratio_per_scenario[scenario])\n",
    "\n",
    "\n",
    "import numpy as np\n",
    "print(f'GPT average team rate success: {np.mean(gpt_vs_phi['gpt'])}')\n",
    "print(f'Phi3 average team rate success: {np.mean(gpt_vs_phi['phi'])}')\n",
    "\n",
    "# Calculate means and standard deviations\n",
    "means = [np.mean(gpt_vs_phi['gpt']), np.mean(gpt_vs_phi['phi'])]\n",
    "std_devs = [np.std(gpt_vs_phi['gpt']), np.std(gpt_vs_phi['phi'])]\n",
    "\n",
    "# Create a bar plot with specified requirements\n",
    "fig, ax = plt.subplots(figsize=(6, 4))  # Small figure size\n",
    "\n",
    "ax.bar(range(2), means, yerr=std_devs, width=0.2, capsize=5)\n",
    "\n",
    "ax.set_xticks(range(2))\n",
    "ax.set_xticklabels(['GPT-4', 'Phi-3'])\n",
    "\n",
    "plt.rcParams.update({'font.size': 16})\n",
    "plt.ylim(0.2,1.0)\n",
    "\n",
    "plt.savefig(f'bar_plot_teams_gpt_vs_phi_solved_{minimum_solve}levels_threshold.pdf')\n",
    "\n",
    "# Show the plot (optional)\n",
    "plt.show()\n"
   ]
  },
  {
   "cell_type": "markdown",
   "id": "a6f6fa08",
   "metadata": {},
   "source": [
    "#### success per team for detection defenses on GPT-4"
   ]
  },
  {
   "cell_type": "code",
   "execution_count": 36,
   "id": "b80f2266",
   "metadata": {},
   "outputs": [
    {
     "name": "stdout",
     "output_type": "stream",
     "text": [
      "prompt_shield average team rate success: 0.5411639208249377\n",
      "task_tracker average team rate success: 0.4672302737520128\n",
      "llm_judge average team rate success: 0.31926976532239687\n"
     ]
    },
    {
     "data": {
      "image/png": "[encoded data removed]",
      "text/plain": [
       "<Figure size 600x400 with 1 Axes>"
      ]
     },
     "metadata": {},
     "output_type": "display_data"
    }
   ],
   "source": [
    "prompt_shield = ['b']\n",
    "tasktracker = ['d']\n",
    "llm_judge = ['h']\n",
    "\n",
    "def check_defense(scenario, defense_letters): \n",
    "    for letter in defense_letters: \n",
    "        if letter in scenario: return True \n",
    "    return False \n",
    "\n",
    "success_per_detection = {'prompt_shield': [], 'task_tracker': [], 'llm_judge': []}\n",
    "\n",
    "for scenario in ratio_per_scenario: \n",
    "    \n",
    "    scenario_  = scenario.split('level')[-1]\n",
    "    if check_defense(scenario_,prompt_shield):\n",
    "        success_per_detection['prompt_shield'].append(ratio_per_scenario[scenario])\n",
    "    elif check_defense(scenario_,tasktracker):\n",
    "        success_per_detection['task_tracker'].append(ratio_per_scenario[scenario])\n",
    "    elif check_defense(scenario_,llm_judge):\n",
    "        success_per_detection['llm_judge'].append(ratio_per_scenario[scenario])\n",
    "\n",
    "print(f'prompt_shield average team rate success: {np.mean(success_per_detection['prompt_shield'])}')\n",
    "print(f'task_tracker average team rate success: {np.mean(success_per_detection['task_tracker'])}')\n",
    "print(f'llm_judge average team rate success: {np.mean(success_per_detection['llm_judge'])}')\n",
    "\n",
    "\n",
    "# Calculate means and standard deviations\n",
    "means = [np.mean(success_per_detection['prompt_shield']), np.mean(success_per_detection['task_tracker']), np.mean(success_per_detection['llm_judge'])]\n",
    "\n",
    "std_devs = [np.std(success_per_detection['prompt_shield']), np.std(success_per_detection['task_tracker']), np.std(success_per_detection['llm_judge'])]\n",
    "\n",
    "# Create a bar plot with specified requirements\n",
    "fig, ax = plt.subplots(figsize=(6, 4))  # Small figure size\n",
    "ax.bar(range(3), means, yerr=std_devs, width=0.2, capsize=5)\n",
    "\n",
    "# Set x-axis ticks and labels\n",
    "ax.set_xticks(range(3))\n",
    "ax.set_xticklabels(['Prompt Shield', 'TaskTracker', 'LLM Judge'])\n",
    "\n",
    "# Set font properties compatible with academic conferences\n",
    "plt.rcParams.update({'font.size': 16})\n",
    "plt.ylim(0.2,1.0)\n",
    "# Save the plot as a PDF file\n",
    "plt.savefig(f'bar_plot_teams_defenses_solved_{minimum_solve}levels_threshold.pdf')\n",
    "\n",
    "# Show the plot (optional)\n",
    "plt.show()"
   ]
  },
  {
   "cell_type": "markdown",
   "id": "8ec95a64",
   "metadata": {},
   "source": [
    "### Effect of retrieval scenario on GPT-4 (averaged across all defenses)"
   ]
  },
  {
   "cell_type": "code",
   "execution_count": 38,
   "id": "569b16e8",
   "metadata": {},
   "outputs": [
    {
     "name": "stdout",
     "output_type": "stream",
     "text": [
      "scenario 1 average team rate success for GPT: 0.2968694205982342\n",
      "scenario 2 average team rate success for GPT: 0.43444937129147654\n",
      "scenario 3 average team rate success for GPT: 0.48102133373872497\n",
      "scenario 4 average team rate success for GPT: 0.41174093879976237\n"
     ]
    }
   ],
   "source": [
    "success_per_ret_scenarios_gpt = {'level1': [], 'level2': [], 'level3': [], 'level4': []}\n",
    "def check_if_gpt(scenario):\n",
    "    gpt_levels = ['b', 'd', 'f', 'h', 'j']\n",
    "    for gpt_letter in gpt_levels: \n",
    "        if gpt_letter in scenario: return True\n",
    "    return False \n",
    "\n",
    "for scenario in ratio_per_scenario: \n",
    "    if not check_if_gpt(scenario.split('level')[-1]): continue\n",
    "    for ret_scenario_ in success_per_ret_scenarios_gpt: \n",
    "        if ret_scenario_ in scenario:\n",
    "            success_per_ret_scenarios_gpt[ret_scenario_].append(ratio_per_scenario[scenario])\n",
    "\n",
    "print(f'scenario 1 average team rate success for GPT: {np.mean(success_per_ret_scenarios_gpt['level1'])}')\n",
    "print(f'scenario 2 average team rate success for GPT: {np.mean(success_per_ret_scenarios_gpt['level2'])}')\n",
    "print(f'scenario 3 average team rate success for GPT: {np.mean(success_per_ret_scenarios_gpt['level3'])}')\n",
    "print(f'scenario 4 average team rate success for GPT: {np.mean(success_per_ret_scenarios_gpt['level4'])}')"
   ]
  },
  {
   "cell_type": "markdown",
   "id": "7af95e0a",
   "metadata": {},
   "source": [
    "### Effect of retrieval scenario on Phi-3 (averaged across all defenses)"
   ]
  },
  {
   "cell_type": "code",
   "execution_count": 39,
   "id": "e839c672",
   "metadata": {},
   "outputs": [
    {
     "name": "stdout",
     "output_type": "stream",
     "text": [
      "scenario 1 average team rate success for Phi: 0.7054251774590758\n",
      "scenario 2 average team rate success for Phi: 0.7246729302731376\n",
      "scenario 3 average team rate success for Phi: 0.7042929292929293\n",
      "scenario 4 average team rate success for Phi: 0.5830050452691963\n"
     ]
    }
   ],
   "source": [
    "success_per_ret_scenarios_phi = {'level1': [], 'level2': [], 'level3': [], 'level4': []}\n",
    "def check_if_gpt(scenario):\n",
    "    gpt_levels = ['b', 'd', 'f', 'h', 'j']\n",
    "    for gpt_letter in gpt_levels: \n",
    "        if gpt_letter in scenario: return True\n",
    "    return False \n",
    "\n",
    "for scenario in ratio_per_scenario: \n",
    "    if check_if_gpt(scenario.split('level')[-1]): continue\n",
    "    if exclude_spotlight(scenario.split('level')[-1]): continue \n",
    "    for ret_scenario_ in success_per_ret_scenarios_phi: \n",
    "        if ret_scenario_ in scenario:\n",
    "            success_per_ret_scenarios_phi[ret_scenario_].append(ratio_per_scenario[scenario])\n",
    "\n",
    "print(f'scenario 1 average team rate success for Phi: {np.mean(success_per_ret_scenarios_phi['level1'])}')\n",
    "print(f'scenario 2 average team rate success for Phi: {np.mean(success_per_ret_scenarios_phi['level2'])}')\n",
    "print(f'scenario 3 average team rate success for Phi: {np.mean(success_per_ret_scenarios_phi['level3'])}')\n",
    "print(f'scenario 4 average team rate success for Phi: {np.mean(success_per_ret_scenarios_phi['level4'])}')"
   ]
  },
  {
   "cell_type": "code",
   "execution_count": 40,
   "id": "ee830be3",
   "metadata": {},
   "outputs": [
    {
     "data": {
      "image/png": "[encoded data removed]",
      "text/plain": [
       "<Figure size 600x400 with 1 Axes>"
      ]
     },
     "metadata": {},
     "output_type": "display_data"
    }
   ],
   "source": [
    "means_gpt = [np.mean(success_per_ret_scenarios_gpt['level1']), np.mean(success_per_ret_scenarios_gpt['level2']), np.mean(success_per_ret_scenarios_gpt['level3']), np.mean(success_per_ret_scenarios_gpt['level4'])]\n",
    "\n",
    "std_gpt = [np.std(success_per_ret_scenarios_gpt['level1']), np.std(success_per_ret_scenarios_gpt['level2']), np.std(success_per_ret_scenarios_gpt['level3']), np.std(success_per_ret_scenarios_gpt['level4'])]\n",
    "\n",
    "\n",
    "means_phi = [np.mean(success_per_ret_scenarios_phi['level1']), np.mean(success_per_ret_scenarios_phi['level2']), np.mean(success_per_ret_scenarios_phi['level3']), np.mean(success_per_ret_scenarios_phi['level4'])]\n",
    "\n",
    "std_phi = [np.std(success_per_ret_scenarios_phi['level1']), np.std(success_per_ret_scenarios_phi['level2']), np.std(success_per_ret_scenarios_phi['level3']), np.std(success_per_ret_scenarios_phi['level4'])]\n",
    "\n",
    "# Create a bar plot with specified requirements\n",
    "fig, ax = plt.subplots(figsize=(6, 4))  # Small figure size\n",
    "\n",
    "# Define bar width and positions\n",
    "bar_width = 0.2\n",
    "index = np.arange(2)\n",
    "plt.ylim(0.1,1.0)\n",
    "\n",
    "# Plot bars for SC levels for GPT and Phi-3 with error bars\n",
    "bars1 = ax.bar(index - bar_width*1.5, [means_gpt[0],means_phi[0]], bar_width, yerr=[std_gpt[0],std_phi[0]], label='Level 1', capsize=5)\n",
    "bars2 = ax.bar(index - bar_width/2, [means_gpt[1],means_phi[1]], bar_width, yerr=[std_gpt[1],std_phi[1]], label='Level 2', capsize=5)\n",
    "bars3 = ax.bar(index + bar_width/2, [means_gpt[2],means_phi[2]], bar_width, yerr=[std_gpt[2],std_phi[2]], label='Level 3', capsize=5)\n",
    "bars4 = ax.bar(index + bar_width*1.5, [means_gpt[3],means_phi[3]], bar_width, yerr=[std_gpt[3],std_phi[3]], label='Level 4', capsize=5)\n",
    "\n",
    "plt.rcParams.update({'font.size': 16})\n",
    "\n",
    "# Set x-axis ticks and labels\n",
    "ax.set_xticks(index)\n",
    "ax.set_xticklabels(['GPT-4', 'Phi-3'])\n",
    "\n",
    "plt.legend()\n",
    "\n",
    "plt.savefig(f'bar_plot_teams_scenarios_solved_{minimum_solve}levels_threshold.pdf')"
   ]
  },
  {
   "cell_type": "markdown",
   "id": "4b329f80",
   "metadata": {},
   "source": [
    "### One model, one scenario, all defenses"
   ]
  },
  {
   "cell_type": "code",
   "execution_count": 42,
   "id": "1f1c6255",
   "metadata": {},
   "outputs": [
    {
     "name": "stdout",
     "output_type": "stream",
     "text": [
      "[0.3898305084745763, 0.37777777777777777, 0.2777777777777778, 0.2571428571428571, 0.18181818181818182]\n",
      "[0.5384615384615384, 0.48148148148148145, 0.47619047619047616, 0.3684210526315789, 0.3076923076923077]\n",
      "[0.6, 0.4444444444444444, 0.5294117647058824, 0.3181818181818182, 0.16666666666666666]\n"
     ]
    }
   ],
   "source": [
    "gpt_level1 = [ratio_per_scenario['level1b'], ratio_per_scenario['level1d'], ratio_per_scenario['level1f'], ratio_per_scenario['level1h'], ratio_per_scenario['level1j']]\n",
    "\n",
    "gpt_level2 = [ratio_per_scenario['level2b'], ratio_per_scenario['level2d'], ratio_per_scenario['level2f'], ratio_per_scenario['level2h'], ratio_per_scenario['level2j']]\n",
    "\n",
    "gpt_level4 = [ratio_per_scenario['level4b'], ratio_per_scenario['level4d'], ratio_per_scenario['level4f'], ratio_per_scenario['level4h'], ratio_per_scenario['level4j']]\n",
    "\n",
    "\n",
    "print(gpt_level1)\n",
    "print(gpt_level2)\n",
    "print(gpt_level4)"
   ]
  },
  {
   "cell_type": "code",
   "execution_count": null,
   "id": "712a987e",
   "metadata": {},
   "outputs": [],
   "source": []
  }
 ],
 "metadata": {
  "kernelspec": {
   "display_name": "satml_comp",
   "language": "python",
   "name": "python3"
  },
  "language_info": {
   "codemirror_mode": {
    "name": "ipython",
    "version": 3
   },
   "file_extension": ".py",
   "mimetype": "text/x-python",
   "name": "python",
   "nbconvert_exporter": "python",
   "pygments_lexer": "ipython3",
   "version": "3.12.2"
  }
 },
 "nbformat": 4,
 "nbformat_minor": 5
}
